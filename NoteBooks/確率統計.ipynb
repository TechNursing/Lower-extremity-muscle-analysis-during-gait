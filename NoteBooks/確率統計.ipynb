{
 "cells": [
  {
   "cell_type": "code",
   "execution_count": 1,
   "id": "129641dd-ecaa-49fb-a919-7ee150b4125a",
   "metadata": {},
   "outputs": [],
   "source": [
    "import pandas as pd\n",
    "import matplotlib.pyplot as plt\n",
    "import japanize_matplotlib\n",
    "\n",
    "rear_all = pd.read_csv('../Data/rear_all.csv')\n",
    "mid_all = pd.read_csv('../Data/mid_all.csv')\n",
    "fore_all = pd.read_csv('../Data/fore_all.csv')\n",
    "\n",
    "rear_muscle_data1 = pd.read_csv('../Data/rear_muscle_data1.csv')\n",
    "mid_muscle_data1 = pd.read_csv('../Data/mid_muscle_data1.csv')\n",
    "fore_muscle_data1 = pd.read_csv('../Data/fore_muscle_data1.csv')\n",
    "rear_muscle_data5 = pd.read_csv('../Data/rear_muscle_data5.csv')\n",
    "mid_muscle_data5 = pd.read_csv('../Data/mid_muscle_data5.csv')\n",
    "fore_muscle_data5 = pd.read_csv('../Data/fore_muscle_data5.csv')\n",
    "rear_muscle_data6 = pd.read_csv('../Data/rear_muscle_data6.csv')\n",
    "mid_muscle_data6 = pd.read_csv('../Data/mid_muscle_data6.csv')\n",
    "fore_muscle_data6 = pd.read_csv('../Data/fore_muscle_data6.csv')\n",
    "rear_muscle_data14 = pd.read_csv('../Data/rear_muscle_data14.csv')\n",
    "mid_muscle_data14 = pd.read_csv('../Data/mid_muscle_data14.csv')\n",
    "fore_muscle_data14 = pd.read_csv('../Data/fore_muscle_data14.csv')\n",
    "rear_muscle_data15 = pd.read_csv('../Data/rear_muscle_data15.csv')\n",
    "mid_muscle_data15 = pd.read_csv('../Data/mid_muscle_data15.csv')\n",
    "fore_muscle_data15 = pd.read_csv('../Data/fore_muscle_data15.csv')\n",
    "rear_muscle_data16 = pd.read_csv('../Data/rear_muscle_data16.csv')\n",
    "mid_muscle_data16 = pd.read_csv('../Data/mid_muscle_data16.csv')\n",
    "fore_muscle_data16 = pd.read_csv('../Data/fore_muscle_data16.csv')\n",
    "rear_muscle_data17 = pd.read_csv('../Data/rear_muscle_data17.csv')\n",
    "mid_muscle_data17 = pd.read_csv('../Data/mid_muscle_data17.csv')\n",
    "fore_muscle_data17 = pd.read_csv('../Data/fore_muscle_data17.csv')\n",
    "rear_muscle_data19 = pd.read_csv('../Data/rear_muscle_data19.csv')\n",
    "mid_muscle_data19 = pd.read_csv('../Data/mid_muscle_data19.csv')\n",
    "fore_muscle_data19 = pd.read_csv('../Data/fore_muscle_data19.csv')\n",
    "rear_muscle_data20 = pd.read_csv('../Data/rear_muscle_data20.csv')\n",
    "mid_muscle_data20 = pd.read_csv('../Data/mid_muscle_data20.csv')\n",
    "fore_muscle_data20 = pd.read_csv('../Data/fore_muscle_data20.csv')"
   ]
  },
  {
   "cell_type": "code",
   "execution_count": 2,
   "id": "3798c1c5-35c0-43dd-af51-30449e6e2136",
   "metadata": {},
   "outputs": [
    {
     "name": "stdout",
     "output_type": "stream",
     "text": [
      "被験者 1 の後足着地時の前脛骨筋の筋肉反応量: 母平均: 0.226, 標準偏差: 0.4636\n",
      "被験者 2 の後足着地時の前脛骨筋の筋肉反応量: 母平均: 0.0231, 標準偏差: 0.0504\n",
      "被験者 3 の後足着地時の前脛骨筋の筋肉反応量: 母平均: 0.5497, 標準偏差: 0.8246\n",
      "被験者 4 の後足着地時の前脛骨筋の筋肉反応量: 母平均: 0.0239, 標準偏差: 0.0389\n",
      "被験者 5 の後足着地時の前脛骨筋の筋肉反応量: 母平均: 0.0378, 標準偏差: 0.05\n",
      "被験者 6 の後足着地時の前脛骨筋の筋肉反応量: 母平均: 0.0273, 標準偏差: 0.0447\n",
      "被験者 7 の後足着地時の前脛骨筋の筋肉反応量: 母平均: 0.2207, 標準偏差: 0.4171\n",
      "被験者 8 の後足着地時の前脛骨筋の筋肉反応量: 母平均: 0.0386, 標準偏差: 0.0501\n",
      "被験者 9 の後足着地時の前脛骨筋の筋肉反応量: 母平均: 0.0365, 標準偏差: 0.0571\n",
      "被験者全員の母平均: 0.1289, 標準偏差: 0.3816\n"
     ]
    }
   ],
   "source": [
    "import numpy as np\n",
    "from scipy import stats\n",
    "\n",
    "datasets_rear = [df.abs() for df in [rear_muscle_data1, rear_muscle_data5, rear_muscle_data6, rear_muscle_data14, rear_muscle_data15,\n",
    "                                     rear_muscle_data16, rear_muscle_data17, rear_muscle_data19, rear_muscle_data20, rear_all]]\n",
    "\n",
    "def calculate_mean_and_std(data, column_name):\n",
    "    mean_value = round(data[column_name].mean(), 4)\n",
    "    std_value = round(data[column_name].std(), 4)\n",
    "    return mean_value, std_value\n",
    "\n",
    "def save_text_image(texts, filename):\n",
    "    fig, ax = plt.subplots(figsize=(10, len(texts) * 0.3))\n",
    "    for i, text in enumerate(texts):\n",
    "        ax.text(0.5, 1 - (i + 1) / len(texts), text, fontsize=12, ha='center', va='center', wrap=True)\n",
    "    ax.axis('off')\n",
    "    plt.savefig(filename, bbox_inches='tight', pad_inches=0.1)\n",
    "    plt.close(fig)\n",
    "\n",
    "results = []\n",
    "for i, data in enumerate(datasets_rear, 1):\n",
    "    tibialis_data = data['Tibialis antelior']\n",
    "    tibialis_data = tibialis_data[tibialis_data > 0] \n",
    "    shape, loc, scale = stats.lognorm.fit(tibialis_data, floc=0)\n",
    "    mean, std = calculate_mean_and_std(data, 'Tibialis antelior')\n",
    "    if i < len(datasets_rear):\n",
    "        results.append(f\"被験者 {i} の後足着地時の前脛骨筋の筋肉反応量: 母平均: {mean}, 標準偏差: {std}\")\n",
    "    else:\n",
    "        results.append(f\"被験者全員の母平均: {mean}, 標準偏差: {std}\")\n",
    "\n",
    "for result in results:\n",
    "    print(result)\n",
    "\n",
    "save_text_image(results, '../Plots/後足着地時の前脛骨筋の筋肉反応量m_s.png')"
   ]
  },
  {
   "cell_type": "code",
   "execution_count": 3,
   "id": "adb59628-5718-4323-b988-efaaf4868a2b",
   "metadata": {},
   "outputs": [
    {
     "name": "stdout",
     "output_type": "stream",
     "text": [
      "被験者 1 の後足着地時の内側腓腹筋の筋肉反応量: 母平均: 0.0356, 標準偏差: 0.1168\n",
      "被験者 2 の後足着地時の内側腓腹筋の筋肉反応量: 母平均: 0.0439, 標準偏差: 0.0752\n",
      "被験者 3 の後足着地時の内側腓腹筋の筋肉反応量: 母平均: 0.2474, 標準偏差: 0.4054\n",
      "被験者 4 の後足着地時の内側腓腹筋の筋肉反応量: 母平均: 0.0207, 標準偏差: 0.0438\n",
      "被験者 5 の後足着地時の内側腓腹筋の筋肉反応量: 母平均: 0.0241, 標準偏差: 0.0404\n",
      "被験者 6 の後足着地時の内側腓腹筋の筋肉反応量: 母平均: 0.0412, 標準偏差: 0.0698\n",
      "被験者 7 の後足着地時の内側腓腹筋の筋肉反応量: 母平均: 0.1016, 標準偏差: 0.2533\n",
      "被験者 8 の後足着地時の内側腓腹筋の筋肉反応量: 母平均: 0.0291, 標準偏差: 0.1185\n",
      "被験者 9 の後足着地時の内側腓腹筋の筋肉反応量: 母平均: 0.0325, 標準偏差: 0.0692\n",
      "被験者全員の母平均: 0.0631, 標準偏差: 0.1862\n"
     ]
    }
   ],
   "source": [
    "results = []\n",
    "for i, data in enumerate(datasets_rear, 1):\n",
    "    gas_data = data['Gastrocnemius medialis']\n",
    "    gas_data = tibialis_data[tibialis_data > 0] \n",
    "    shape, loc, scale = stats.lognorm.fit(gas_data, floc=0)\n",
    "    mean, std = calculate_mean_and_std(data, 'Gastrocnemius medialis')\n",
    "    if i < len(datasets_rear):\n",
    "        results.append(f\"被験者 {i} の後足着地時の内側腓腹筋の筋肉反応量: 母平均: {mean}, 標準偏差: {std}\")\n",
    "    else:\n",
    "        results.append(f\"被験者全員の母平均: {mean}, 標準偏差: {std}\")\n",
    "\n",
    "for result in results:\n",
    "    print(result)\n",
    "\n",
    "save_text_image(results, '../Plots/後足着地時の内側腓腹筋の筋肉反応量m_s.png')"
   ]
  },
  {
   "cell_type": "code",
   "execution_count": 4,
   "id": "3856fa7e-5f37-4c94-952b-1684c728e882",
   "metadata": {},
   "outputs": [
    {
     "name": "stdout",
     "output_type": "stream",
     "text": [
      "被験者 1 の中足着地時の前脛骨筋の筋肉反応量: 母平均: 0.3304, 標準偏差: 0.6139\n",
      "被験者 2 の中足着地時の前脛骨筋の筋肉反応量: 母平均: 0.0164, 標準偏差: 0.0311\n",
      "被験者 3 の中足着地時の前脛骨筋の筋肉反応量: 母平均: 0.499, 標準偏差: 0.7739\n",
      "被験者 4 の中足着地時の前脛骨筋の筋肉反応量: 母平均: 0.028, 標準偏差: 0.0458\n",
      "被験者 5 の中足着地時の前脛骨筋の筋肉反応量: 母平均: 0.0356, 標準偏差: 0.0495\n",
      "被験者 6 の中足着地時の前脛骨筋の筋肉反応量: 母平均: 0.0245, 標準偏差: 0.042\n",
      "被験者 7 の中足着地時の前脛骨筋の筋肉反応量: 母平均: 0.1906, 標準偏差: 0.3566\n",
      "被験者 8 の中足着地時の前脛骨筋の筋肉反応量: 母平均: 0.0521, 標準偏差: 0.0596\n",
      "被験者 9 の中足着地時の前脛骨筋の筋肉反応量: 母平均: 0.0394, 標準偏差: 0.0599\n",
      "被験者全員の母平均: 0.1085, 標準偏差: 0.3308\n"
     ]
    }
   ],
   "source": [
    "datasets_mid = [df.abs() for df in [mid_muscle_data1, mid_muscle_data5, mid_muscle_data6,\n",
    "                                    mid_muscle_data14, mid_muscle_data15,mid_muscle_data16,\n",
    "                                    mid_muscle_data17, mid_muscle_data19, mid_muscle_data20, mid_all]]\n",
    "\n",
    "results = []\n",
    "for i, data in enumerate(datasets_mid, 1):\n",
    "    tibialis_data = data['Tibialis antelior']\n",
    "    tibialis_data = tibialis_data[tibialis_data > 0] \n",
    "    shape, loc, scale = stats.lognorm.fit(tibialis_data, floc=0)\n",
    "    mean, std = calculate_mean_and_std(data, 'Tibialis antelior')\n",
    "    if i < len(datasets_mid):\n",
    "        results.append(f\"被験者 {i} の中足着地時の前脛骨筋の筋肉反応量: 母平均: {mean}, 標準偏差: {std}\")\n",
    "    else:\n",
    "        results.append(f\"被験者全員の母平均: {mean}, 標準偏差: {std}\")\n",
    "\n",
    "for result in results:\n",
    "    print(result)\n",
    "\n",
    "save_text_image(results, '../Plots/中足着地時の前脛骨筋の筋肉反応量m_s.png')"
   ]
  },
  {
   "cell_type": "code",
   "execution_count": 5,
   "id": "d4473453-3431-4ee1-b678-a45a8a497510",
   "metadata": {},
   "outputs": [
    {
     "name": "stdout",
     "output_type": "stream",
     "text": [
      "被験者 1 の中足着地時の内側腓腹筋の筋肉反応量: 母平均: 0.0639, 標準偏差: 0.1927\n",
      "被験者 2 の中足着地時の内側腓腹筋の筋肉反応量: 母平均: 0.0669, 標準偏差: 0.1067\n",
      "被験者 3 の中足着地時の内側腓腹筋の筋肉反応量: 母平均: 0.0986, 標準偏差: 0.1442\n",
      "被験者 4 の中足着地時の内側腓腹筋の筋肉反応量: 母平均: 0.0174, 標準偏差: 0.0395\n",
      "被験者 5 の中足着地時の内側腓腹筋の筋肉反応量: 母平均: 0.0257, 標準偏差: 0.0422\n",
      "被験者 6 の中足着地時の内側腓腹筋の筋肉反応量: 母平均: 0.0371, 標準偏差: 0.0661\n",
      "被験者 7 の中足着地時の内側腓腹筋の筋肉反応量: 母平均: 0.0852, 標準偏差: 0.2006\n",
      "被験者 8 の中足着地時の内側腓腹筋の筋肉反応量: 母平均: 0.0234, 標準偏差: 0.0482\n",
      "被験者 9 の中足着地時の内側腓腹筋の筋肉反応量: 母平均: 0.0289, 標準偏差: 0.0656\n",
      "被験者全員の母平均: 0.0461, 標準偏差: 0.118\n"
     ]
    }
   ],
   "source": [
    "results = []\n",
    "for i, data in enumerate(datasets_mid, 1):\n",
    "    gas_data = data['Gastrocnemius medialis']\n",
    "    gas_data = tibialis_data[tibialis_data > 0] \n",
    "    shape, loc, scale = stats.lognorm.fit(gas_data, floc=0)\n",
    "    mean, std = calculate_mean_and_std(data, 'Gastrocnemius medialis')\n",
    "    if i < len(datasets_mid):\n",
    "        results.append(f\"被験者 {i} の中足着地時の内側腓腹筋の筋肉反応量: 母平均: {mean}, 標準偏差: {std}\")\n",
    "    else:\n",
    "        results.append(f\"被験者全員の母平均: {mean}, 標準偏差: {std}\")\n",
    "\n",
    "for result in results:\n",
    "    print(result)\n",
    "\n",
    "save_text_image(results, '../Plots/中足着地時の内側腓腹筋の筋肉反応量m_s.png')"
   ]
  },
  {
   "cell_type": "code",
   "execution_count": 6,
   "id": "dc2ec6b2-c665-4230-8d7f-3179cb955ecb",
   "metadata": {},
   "outputs": [
    {
     "name": "stdout",
     "output_type": "stream",
     "text": [
      "被験者 1 の前足着地時の前脛骨筋の筋肉反応量: 母平均: 0.3354, 標準偏差: 0.5918\n",
      "被験者 2 の前足着地時の前脛骨筋の筋肉反応量: 母平均: 0.0182, 標準偏差: 0.0333\n",
      "被験者 3 の前足着地時の前脛骨筋の筋肉反応量: 母平均: 0.2979, 標準偏差: 0.6115\n",
      "被験者 4 の前足着地時の前脛骨筋の筋肉反応量: 母平均: 0.0292, 標準偏差: 0.0482\n",
      "被験者 5 の前足着地時の前脛骨筋の筋肉反応量: 母平均: 0.0277, 標準偏差: 0.0412\n",
      "被験者 6 の前足着地時の前脛骨筋の筋肉反応量: 母平均: 0.0231, 標準偏差: 0.0413\n",
      "被験者 7 の前足着地時の前脛骨筋の筋肉反応量: 母平均: 0.2013, 標準偏差: 0.3109\n",
      "被験者 8 の前足着地時の前脛骨筋の筋肉反応量: 母平均: 0.1007, 標準偏差: 0.3397\n",
      "被験者 9 の前足着地時の前脛骨筋の筋肉反応量: 母平均: 0.033, 標準偏差: 0.056\n",
      "被験者全員の母平均: 0.112, 標準偏差: 0.3299\n"
     ]
    }
   ],
   "source": [
    "datasets_fore = [df.abs() for df in [fore_muscle_data1, fore_muscle_data5, fore_muscle_data6,\n",
    "                                     fore_muscle_data14,fore_muscle_data15,fore_muscle_data16,\n",
    "                                     fore_muscle_data17, fore_muscle_data19, fore_muscle_data20, fore_all]]\n",
    "\n",
    "results = []\n",
    "for i, data in enumerate(datasets_fore, 1):\n",
    "    tibialis_data = data['Tibialis antelior']\n",
    "    tibialis_data = tibialis_data[tibialis_data > 0] \n",
    "    shape, loc, scale = stats.lognorm.fit(tibialis_data, floc=0)\n",
    "    mean, std = calculate_mean_and_std(data, 'Tibialis antelior')\n",
    "    if i < len(datasets_fore):\n",
    "        results.append(f\"被験者 {i} の前足着地時の前脛骨筋の筋肉反応量: 母平均: {mean}, 標準偏差: {std}\")\n",
    "    else:\n",
    "        results.append(f\"被験者全員の母平均: {mean}, 標準偏差: {std}\")\n",
    "\n",
    "for result in results:\n",
    "    print(result)\n",
    "\n",
    "save_text_image(results, '../Plots/前足着地時の前脛骨筋の筋肉反応量m_s.png')"
   ]
  },
  {
   "cell_type": "code",
   "execution_count": 7,
   "id": "982d2b66-8d01-4c10-b4a9-b07fd50b8405",
   "metadata": {},
   "outputs": [
    {
     "name": "stdout",
     "output_type": "stream",
     "text": [
      "被験者 1 の前足着地時の内側腓腹筋の筋肉反応量: 母平均: 0.0837, 標準偏差: 0.2041\n",
      "被験者 2 の前足着地時の内側腓腹筋の筋肉反応量: 母平均: 0.0534, 標準偏差: 0.1023\n",
      "被験者 3 の前足着地時の内側腓腹筋の筋肉反応量: 母平均: 0.0754, 標準偏差: 0.1762\n",
      "被験者 4 の前足着地時の内側腓腹筋の筋肉反応量: 母平均: 0.0156, 標準偏差: 0.0368\n",
      "被験者 5 の前足着地時の内側腓腹筋の筋肉反応量: 母平均: 0.039, 標準偏差: 0.056\n",
      "被験者 6 の前足着地時の内側腓腹筋の筋肉反応量: 母平均: 0.0511, 標準偏差: 0.0836\n",
      "被験者 7 の前足着地時の内側腓腹筋の筋肉反応量: 母平均: 0.0926, 標準偏差: 0.1674\n",
      "被験者 8 の前足着地時の内側腓腹筋の筋肉反応量: 母平均: 0.0504, 標準偏差: 0.1138\n",
      "被験者 9 の前足着地時の内側腓腹筋の筋肉反応量: 母平均: 0.0481, 標準偏差: 0.0856\n",
      "被験者全員の母平均: 0.0545, 標準偏差: 0.1245\n"
     ]
    }
   ],
   "source": [
    "results = []\n",
    "for i, data in enumerate(datasets_fore, 1):\n",
    "    gas_data = data['Gastrocnemius medialis']\n",
    "    gas_data = tibialis_data[tibialis_data > 0] \n",
    "    shape, loc, scale = stats.lognorm.fit(gas_data, floc=0)\n",
    "    mean, std = calculate_mean_and_std(data, 'Gastrocnemius medialis')\n",
    "    if i < len(datasets_fore):\n",
    "        results.append(f\"被験者 {i} の前足着地時の内側腓腹筋の筋肉反応量: 母平均: {mean}, 標準偏差: {std}\")\n",
    "    else:\n",
    "        results.append(f\"被験者全員の母平均: {mean}, 標準偏差: {std}\")\n",
    "\n",
    "for result in results:\n",
    "    print(result)\n",
    "\n",
    "save_text_image(results, '../Plots/前足着地時の内側腓腹筋の筋肉反応量m_s.png')"
   ]
  },
  {
   "cell_type": "code",
   "execution_count": 8,
   "id": "5330bf49-3755-406d-bf6b-1b4c98d5a5c3",
   "metadata": {},
   "outputs": [
    {
     "name": "stdout",
     "output_type": "stream",
     "text": [
      "被験者 1 の後足着地時の前脛骨筋と内側腓腹筋の共分散: 共分散 = 0.9493, 相関係数 = 0.3739\n",
      "被験者 2 の後足着地時の前脛骨筋と内側腓腹筋の共分散: 共分散 = -0.2582, 相関係数 = -0.1383\n",
      "被験者 3 の後足着地時の前脛骨筋と内側腓腹筋の共分散: 共分散 = 0.6211, 相関係数 = 0.1809\n",
      "被験者 4 の後足着地時の前脛骨筋と内側腓腹筋の共分散: 共分散 = -0.1038, 相関係数 = -0.0616\n",
      "被験者 5 の後足着地時の前脛骨筋と内側腓腹筋の共分散: 共分散 = -0.0967, 相関係数 = -0.06\n",
      "被験者 6 の後足着地時の前脛骨筋と内側腓腹筋の共分散: 共分散 = -0.0913, 相関係数 = -0.0536\n",
      "被験者 7 の後足着地時の前脛骨筋と内側腓腹筋の共分散: 共分散 = 2.5425, 相関係数 = 0.6349\n",
      "被験者 8 の後足着地時の前脛骨筋と内側腓腹筋の共分散: 共分散 = 0.1562, 相関係数 = 0.0971\n",
      "被験者 9 の後足着地時の前脛骨筋と内側腓腹筋の共分散: 共分散 = -0.317, 相関係数 = -0.1546\n",
      "被験者全員の後足着地時の前脛骨筋と内側腓腹筋の共分散: 共分散 = 0.754, 相関係数 = 0.263\n"
     ]
    }
   ],
   "source": [
    "def calculate_covariance(data, column1, column2):\n",
    "    valid_data = data[(data[column1] > 0) & (data[column2] > 0)]\n",
    "    log_data1 = np.log(valid_data[column1])\n",
    "    log_data2 = np.log(valid_data[column2])\n",
    "    covariance = np.cov(log_data1, log_data2)[0, 1]\n",
    "    return round(covariance, 4)\n",
    "\n",
    "def calculate_correlation(data, column1, column2):\n",
    "    valid_data = data[(data[column1] > 0) & (data[column2] > 0)]\n",
    "    log_data1 = np.log(valid_data[column1])\n",
    "    log_data2 = np.log(valid_data[column2])\n",
    "    covariance = np.cov(log_data1, log_data2)[0, 1]\n",
    "    std_column1 = np.std(log_data1)\n",
    "    std_column2 = np.std(log_data2)\n",
    "    correlation = covariance / (std_column1 * std_column2)\n",
    "    return round(correlation, 4)\n",
    "  \n",
    "results = []\n",
    "for i, data in enumerate(datasets_rear, 1):\n",
    "    covariance = calculate_covariance(data, 'Tibialis antelior', 'Gastrocnemius medialis')\n",
    "    correlation = calculate_correlation(data, 'Tibialis antelior', 'Gastrocnemius medialis')\n",
    "    \n",
    "    if i < len(datasets_rear):\n",
    "        results.append(f\"被験者 {i} の後足着地時の前脛骨筋と内側腓腹筋の共分散: 共分散 = {covariance}, 相関係数 = {correlation}\")\n",
    "    else:\n",
    "        results.append(f\"被験者全員の後足着地時の前脛骨筋と内側腓腹筋の共分散: 共分散 = {covariance}, 相関係数 = {correlation}\")\n",
    "\n",
    "for result in results:\n",
    "    print(result)\n",
    "\n",
    "def save_text_image(texts, filename):\n",
    "    fig, ax = plt.subplots(figsize=(10, len(texts) * 0.4))\n",
    "    for i, text in enumerate(texts):\n",
    "        ax.text(0.5, 1 - (i + 1) / len(texts), text, fontsize=12, ha='center', va='center', wrap=True)\n",
    "    ax.axis('off')\n",
    "    plt.savefig(filename, bbox_inches='tight', pad_inches=0.1)\n",
    "    plt.close(fig)\n",
    "    \n",
    "save_text_image(results, '../Plots/後足着地時の前脛骨筋と内側腓腹筋の共分散と相関関係.png')"
   ]
  },
  {
   "cell_type": "code",
   "execution_count": 9,
   "id": "e7b2ac24-c9bb-470f-b954-4f9ead0b5fcc",
   "metadata": {},
   "outputs": [
    {
     "name": "stdout",
     "output_type": "stream",
     "text": [
      "被験者 1 の中足着地時の前脛骨筋と内側腓腹筋の共分散: 共分散 = 1.381, 相関係数 = 0.4544\n",
      "被験者 2 の中足着地時の前脛骨筋と内側腓腹筋の共分散: 共分散 = -0.273, 相関係数 = -0.15\n",
      "被験者 3 の中足着地時の前脛骨筋と内側腓腹筋の共分散: 共分散 = 1.1852, 相関係数 = 0.3681\n",
      "被験者 4 の中足着地時の前脛骨筋と内側腓腹筋の共分散: 共分散 = -0.0652, 相関係数 = -0.0386\n",
      "被験者 5 の中足着地時の前脛骨筋と内側腓腹筋の共分散: 共分散 = -0.1544, 相関係数 = -0.0943\n",
      "被験者 6 の中足着地時の前脛骨筋と内側腓腹筋の共分散: 共分散 = -0.1058, 相関係数 = -0.0617\n",
      "被験者 7 の中足着地時の前脛骨筋と内側腓腹筋の共分散: 共分散 = 2.2916, 相関係数 = 0.6255\n",
      "被験者 8 の中足着地時の前脛骨筋と内側腓腹筋の共分散: 共分散 = -0.0242, 相関係数 = -0.0156\n",
      "被験者 9 の中足着地時の前脛骨筋と内側腓腹筋の共分散: 共分散 = -0.1422, 相関係数 = -0.0708\n",
      "被験者全員の中足着地時の前脛骨筋と内側腓腹筋の共分散: 共分散 = 0.5265, 相関係数 = 0.2003\n"
     ]
    }
   ],
   "source": [
    "results = []\n",
    "for i, data in enumerate(datasets_mid, 1):\n",
    "    covariance = calculate_covariance(data, 'Tibialis antelior', 'Gastrocnemius medialis')\n",
    "    correlation = calculate_correlation(data, 'Tibialis antelior', 'Gastrocnemius medialis')\n",
    "    \n",
    "    if i < len(datasets_mid):\n",
    "        results.append(f\"被験者 {i} の中足着地時の前脛骨筋と内側腓腹筋の共分散: 共分散 = {covariance}, 相関係数 = {correlation}\")\n",
    "    else:\n",
    "        results.append(f\"被験者全員の中足着地時の前脛骨筋と内側腓腹筋の共分散: 共分散 = {covariance}, 相関係数 = {correlation}\")\n",
    "\n",
    "for result in results:\n",
    "    print(result)\n",
    "\n",
    "def save_text_image(texts, filename):\n",
    "    fig, ax = plt.subplots(figsize=(10, len(texts) * 0.4))\n",
    "    for i, text in enumerate(texts):\n",
    "        ax.text(0.5, 1 - (i + 1) / len(texts), text, fontsize=12, ha='center', va='center', wrap=True)\n",
    "    ax.axis('off')\n",
    "    plt.savefig(filename, bbox_inches='tight', pad_inches=0.1)\n",
    "    plt.close(fig)\n",
    "    \n",
    "save_text_image(results, '../Plots/中足着地時の前脛骨筋と内側腓腹筋の共分散と相関関係.png')"
   ]
  },
  {
   "cell_type": "code",
   "execution_count": 10,
   "id": "13b68652-7223-477a-84f6-4bd47cf03094",
   "metadata": {},
   "outputs": [
    {
     "name": "stdout",
     "output_type": "stream",
     "text": [
      "被験者 1 の前足着地時の前脛骨筋と内側腓腹筋の共分散: 共分散 = 1.5889, 相関係数 = 0.4861\n",
      "被験者 2 の前足着地時の前脛骨筋と内側腓腹筋の共分散: 共分散 = -0.1707, 相関係数 = -0.0914\n",
      "被験者 3 の前足着地時の前脛骨筋と内側腓腹筋の共分散: 共分散 = 0.835, 相関係数 = 0.2707\n",
      "被験者 4 の前足着地時の前脛骨筋と内側腓腹筋の共分散: 共分散 = 0.0504, 相関係数 = 0.0299\n",
      "被験者 5 の前足着地時の前脛骨筋と内側腓腹筋の共分散: 共分散 = -0.1649, 相関係数 = -0.0964\n",
      "被験者 6 の前足着地時の前脛骨筋と内側腓腹筋の共分散: 共分散 = -0.3836, 相関係数 = -0.2002\n",
      "被験者 7 の前足着地時の前脛骨筋と内側腓腹筋の共分散: 共分散 = 1.2254, 相関係数 = 0.4789\n",
      "被験者 8 の前足着地時の前脛骨筋と内側腓腹筋の共分散: 共分散 = 0.2462, 相関係数 = 0.1113\n",
      "被験者 9 の前足着地時の前脛骨筋と内側腓腹筋の共分散: 共分散 = -0.1739, 相関係数 = -0.0848\n",
      "被験者全員の前足着地時の前脛骨筋と内側腓腹筋の共分散: 共分散 = 0.5437, 相関係数 = 0.202\n"
     ]
    }
   ],
   "source": [
    "results = []\n",
    "for i, data in enumerate(datasets_fore, 1):\n",
    "    covariance = calculate_covariance(data, 'Tibialis antelior', 'Gastrocnemius medialis')\n",
    "    correlation = calculate_correlation(data, 'Tibialis antelior', 'Gastrocnemius medialis')\n",
    "    \n",
    "    if i < len(datasets_fore):\n",
    "        results.append(f\"被験者 {i} の前足着地時の前脛骨筋と内側腓腹筋の共分散: 共分散 = {covariance}, 相関係数 = {correlation}\")\n",
    "    else:\n",
    "        results.append(f\"被験者全員の前足着地時の前脛骨筋と内側腓腹筋の共分散: 共分散 = {covariance}, 相関係数 = {correlation}\")\n",
    "\n",
    "for result in results:\n",
    "    print(result)\n",
    "\n",
    "def save_text_image(texts, filename):\n",
    "    fig, ax = plt.subplots(figsize=(10, len(texts) * 0.4))\n",
    "    for i, text in enumerate(texts):\n",
    "        ax.text(0.5, 1 - (i + 1) / len(texts), text, fontsize=12, ha='center', va='center', wrap=True)\n",
    "    ax.axis('off')\n",
    "    plt.savefig(filename, bbox_inches='tight', pad_inches=0.1)\n",
    "    plt.close(fig)\n",
    "    \n",
    "save_text_image(results, '../Plots/前足着地時の前脛骨筋と内側腓腹筋の共分散と相関関係.png')"
   ]
  },
  {
   "cell_type": "code",
   "execution_count": 11,
   "id": "2c16ab21-c176-4230-92e6-6c77c46135fc",
   "metadata": {},
   "outputs": [
    {
     "name": "stdout",
     "output_type": "stream",
     "text": [
      "被験者 1 の後足と前足の前脛骨筋: 共分散 = 0.6246, 相関係数 = 0.2093\n",
      "被験者 2 の後足と前足の前脛骨筋: 共分散 = -0.0149, 相関係数 = -0.0122\n",
      "被験者 3 の後足と前足の前脛骨筋: 共分散 = 0.3704, 相関係数 = 0.1029\n",
      "被験者 4 の後足と前足の前脛骨筋: 共分散 = 0.0775, 相関係数 = 0.0473\n",
      "被験者 5 の後足と前足の前脛骨筋: 共分散 = 0.06, 相関係数 = 0.0406\n",
      "被験者 6 の後足と前足の前脛骨筋: 共分散 = -0.076, 相関係数 = -0.0453\n",
      "被験者 7 の後足と前足の前脛骨筋: 共分散 = 0.235, 相関係数 = 0.0696\n",
      "被験者 8 の後足と前足の前脛骨筋: 共分散 = -0.069, 相関係数 = -0.0405\n",
      "被験者 9 の後足と前足の前脛骨筋: 共分散 = -0.1232, 相関係数 = -0.0716\n",
      "被験者全員: 後足と前足の前脛骨筋の共分散 = -0.0028, 相関係数 = -0.0009\n"
     ]
    }
   ],
   "source": [
    "def calculate_covariance(rear_data, fore_data, column_name):\n",
    "    valid_rear_data = rear_data[rear_data[column_name] > 0]\n",
    "    valid_fore_data = fore_data[fore_data[column_name] > 0]\n",
    "    min_length = min(len(valid_rear_data), len(valid_fore_data))\n",
    "    log_rear_data = np.log(valid_rear_data[column_name].iloc[:min_length])\n",
    "    log_fore_data = np.log(valid_fore_data[column_name].iloc[:min_length])\n",
    "    covariance = np.cov(log_rear_data, log_fore_data)[0, 1]\n",
    "    return round(covariance, 4)\n",
    "\n",
    "def calculate_correlation(rear_data, fore_data, column_name):\n",
    "    valid_rear_data = rear_data[rear_data[column_name] > 0]\n",
    "    valid_fore_data = fore_data[fore_data[column_name] > 0]\n",
    "    min_length = min(len(valid_rear_data), len(valid_fore_data))\n",
    "    log_rear_data = np.log(valid_rear_data[column_name].iloc[:min_length])\n",
    "    log_fore_data = np.log(valid_fore_data[column_name].iloc[:min_length])\n",
    "    covariance = np.cov(log_rear_data, log_fore_data)[0, 1]\n",
    "    std_rear = np.std(log_rear_data)\n",
    "    std_fore = np.std(log_fore_data)\n",
    "    correlation = covariance / (std_rear * std_fore)\n",
    "    return round(correlation, 4)\n",
    "\n",
    "results = []\n",
    "for i, (rear_data, fore_data) in enumerate(zip(datasets_rear, datasets_fore), 1):\n",
    "    covariance = calculate_covariance(rear_data, fore_data, 'Tibialis antelior')\n",
    "    correlation = calculate_correlation(rear_data, fore_data, 'Tibialis antelior')\n",
    "    \n",
    "    if i < len(datasets_rear):\n",
    "        results.append(f\"被験者 {i} の後足と前足の前脛骨筋: 共分散 = {covariance}, 相関係数 = {correlation}\")\n",
    "    else:\n",
    "        results.append(f\"被験者全員: 後足と前足の前脛骨筋の共分散 = {covariance}, 相関係数 = {correlation}\")\n",
    "\n",
    "for result in results:\n",
    "    print(result)\n",
    "\n",
    "def save_text_image(texts, filename):\n",
    "    fig, ax = plt.subplots(figsize=(10, len(texts) * 0.4))\n",
    "    for i, text in enumerate(texts):\n",
    "        ax.text(0.5, 1 - (i + 1) / len(texts), text, fontsize=12, ha='center', va='center', wrap=True)\n",
    "    ax.axis('off')\n",
    "    plt.savefig(filename, bbox_inches='tight', pad_inches=0.1)\n",
    "    plt.close(fig)\n",
    "    \n",
    "save_text_image(results, '../Plots/後足と前足の前脛骨筋の共分散と相関関係.png')"
   ]
  },
  {
   "cell_type": "code",
   "execution_count": 12,
   "id": "e5ff9ac1-3746-4e32-aae4-9a5b2f1b4a51",
   "metadata": {},
   "outputs": [
    {
     "name": "stdout",
     "output_type": "stream",
     "text": [
      "被験者 1 の中足と前足の前脛骨筋: 共分散 = 0.9075, 相関係数 = 0.2858\n",
      "被験者 2 の中足と前足の前脛骨筋: 共分散 = 0.0445, 相関係数 = 0.0405\n",
      "被験者 3 の中足と前足の前脛骨筋: 共分散 = 0.3271, 相関係数 = 0.0954\n",
      "被験者 4 の中足と前足の前脛骨筋: 共分散 = 0.1478, 相関係数 = 0.0856\n",
      "被験者 5 の中足と前足の前脛骨筋: 共分散 = 0.0266, 相関係数 = 0.0171\n",
      "被験者 6 の中足と前足の前脛骨筋: 共分散 = -0.0298, 相関係数 = -0.0183\n",
      "被験者 7 の中足と前足の前脛骨筋: 共分散 = -0.0329, 相関係数 = -0.0102\n",
      "被験者 8 の中足と前足の前脛骨筋: 共分散 = 0.0465, 相関係数 = 0.0319\n",
      "被験者 9 の中足と前足の前脛骨筋: 共分散 = -0.0519, 相関係数 = -0.0368\n",
      "被験者全員: 中足と前足の前脛骨筋の共分散 = 0.098, 相関係数 = 0.0341\n"
     ]
    }
   ],
   "source": [
    "results = []\n",
    "for i, (rear_data, fore_data) in enumerate(zip(datasets_mid, datasets_fore), 1):\n",
    "    covariance = calculate_covariance(rear_data, fore_data, 'Tibialis antelior')\n",
    "    correlation = calculate_correlation(rear_data, fore_data, 'Tibialis antelior')\n",
    "    \n",
    "    if i < len(datasets_rear):\n",
    "        results.append(f\"被験者 {i} の中足と前足の前脛骨筋: 共分散 = {covariance}, 相関係数 = {correlation}\")\n",
    "    else:\n",
    "        results.append(f\"被験者全員: 中足と前足の前脛骨筋の共分散 = {covariance}, 相関係数 = {correlation}\")\n",
    "\n",
    "for result in results:\n",
    "    print(result)\n",
    "\n",
    "def save_text_image(texts, filename):\n",
    "    fig, ax = plt.subplots(figsize=(10, len(texts) * 0.4))\n",
    "    for i, text in enumerate(texts):\n",
    "        ax.text(0.5, 1 - (i + 1) / len(texts), text, fontsize=12, ha='center', va='center', wrap=True)\n",
    "    ax.axis('off')\n",
    "    plt.savefig(filename, bbox_inches='tight', pad_inches=0.1)\n",
    "    plt.close(fig)\n",
    "    \n",
    "save_text_image(results, '../Plots/中足と前足の前脛骨筋の共分散と相関関係.png')"
   ]
  },
  {
   "cell_type": "code",
   "execution_count": 13,
   "id": "f25e8910-cd86-4a1b-bb33-b6de62da746f",
   "metadata": {},
   "outputs": [
    {
     "name": "stdout",
     "output_type": "stream",
     "text": [
      "被験者 1 の後足と中足の前脛骨筋: 共分散 = 1.3146, 相関係数 = 0.3912\n",
      "被験者 2 の後足と中足の前脛骨筋: 共分散 = 0.1201, 相関係数 = 0.0887\n",
      "被験者 3 の後足と中足の前脛骨筋: 共分散 = 0.8049, 相関係数 = 0.2113\n",
      "被験者 4 の後足と中足の前脛骨筋: 共分散 = 0.1671, 相関係数 = 0.1008\n",
      "被験者 5 の後足と中足の前脛骨筋: 共分散 = 0.0729, 相関係数 = 0.045\n",
      "被験者 6 の後足と中足の前脛骨筋: 共分散 = 0.1234, 相関係数 = 0.0753\n",
      "被験者 7 の後足と中足の前脛骨筋: 共分散 = 1.6131, 相関係数 = 0.4071\n",
      "被験者 8 の後足と中足の前脛骨筋: 共分散 = 0.0589, 相関係数 = 0.0388\n",
      "被験者 9 の後足と中足の前脛骨筋: 共分散 = 0.0006, 相関係数 = 0.0003\n",
      "被験者全員: 後足と中足の前脛骨筋の共分散 = 0.7717, 相関係数 = 0.2566\n"
     ]
    }
   ],
   "source": [
    "results = []\n",
    "for i, (mid_data, fore_data) in enumerate(zip(datasets_rear, datasets_mid), 1):\n",
    "    covariance = calculate_covariance(mid_data, fore_data, 'Tibialis antelior')\n",
    "    correlation = calculate_correlation(mid_data, fore_data, 'Tibialis antelior')\n",
    "    \n",
    "    if i < len(datasets_mid):\n",
    "        results.append(f\"被験者 {i} の後足と中足の前脛骨筋: 共分散 = {covariance}, 相関係数 = {correlation}\")\n",
    "    else:\n",
    "        results.append(f\"被験者全員: 後足と中足の前脛骨筋の共分散 = {covariance}, 相関係数 = {correlation}\")\n",
    "\n",
    "for result in results:\n",
    "    print(result)\n",
    "\n",
    "def save_text_image(texts, filename):\n",
    "    fig, ax = plt.subplots(figsize=(10, len(texts) * 0.4))\n",
    "    for i, text in enumerate(texts):\n",
    "        ax.text(0.5, 1 - (i + 1) / len(texts), text, fontsize=12, ha='center', va='center', wrap=True)\n",
    "    ax.axis('off')\n",
    "    plt.savefig(filename, bbox_inches='tight', pad_inches=0.1)\n",
    "    plt.close(fig)\n",
    "    \n",
    "save_text_image(results, '../Plots/後足と中足の前脛骨筋の共分散と相関関係.png')"
   ]
  },
  {
   "cell_type": "code",
   "execution_count": 14,
   "id": "0ce3d0ef-d7a0-4541-b1a6-5b2fe95dae9a",
   "metadata": {},
   "outputs": [
    {
     "name": "stdout",
     "output_type": "stream",
     "text": [
      "被験者 1 の後足と中足の内側腓腹筋: 共分散 = 0.2443, 相関係数 = 0.1112\n",
      "被験者 2 の後足と中足の内側腓腹筋: 共分散 = 0.6668, 相関係数 = 0.2708\n",
      "被験者 3 の後足と中足の内側腓腹筋: 共分散 = 0.1978, 相関係数 = 0.0739\n",
      "被験者 4 の後足と中足の内側腓腹筋: 共分散 = 0.3376, 相関係数 = 0.1956\n",
      "被験者 5 の後足と中足の内側腓腹筋: 共分散 = 0.0842, 相関係数 = 0.0497\n",
      "被験者 6 の後足と中足の内側腓腹筋: 共分散 = 0.3809, 相関係数 = 0.2095\n",
      "被験者 7 の後足と中足の内側腓腹筋: 共分散 = 1.3119, 相関係数 = 0.3437\n",
      "被験者 8 の後足と中足の内側腓腹筋: 共分散 = -0.2315, 相関係数 = -0.1276\n",
      "被験者 9 の後足と中足の内側腓腹筋: 共分散 = -0.067, 相関係数 = -0.0349\n",
      "被験者全員: 後足と中足の内側腓腹筋の共分散 = 0.3169, 相関係数 = 0.125\n"
     ]
    }
   ],
   "source": [
    "results = []\n",
    "for i, (mid_data, fore_data) in enumerate(zip(datasets_rear, datasets_mid), 1):\n",
    "    covariance = calculate_covariance(mid_data, fore_data, 'Gastrocnemius medialis')\n",
    "    correlation = calculate_correlation(mid_data, fore_data, 'Gastrocnemius medialis')\n",
    "    \n",
    "    if i < len(datasets_mid):\n",
    "        results.append(f\"被験者 {i} の後足と中足の内側腓腹筋: 共分散 = {covariance}, 相関係数 = {correlation}\")\n",
    "    else:\n",
    "        results.append(f\"被験者全員: 後足と中足の内側腓腹筋の共分散 = {covariance}, 相関係数 = {correlation}\")\n",
    "\n",
    "for result in results:\n",
    "    print(result)\n",
    "\n",
    "def save_text_image(texts, filename):\n",
    "    fig, ax = plt.subplots(figsize=(10, len(texts) * 0.4))\n",
    "    for i, text in enumerate(texts):\n",
    "        ax.text(0.5, 1 - (i + 1) / len(texts), text, fontsize=12, ha='center', va='center', wrap=True)\n",
    "    ax.axis('off')\n",
    "    plt.savefig(filename, bbox_inches='tight', pad_inches=0.1)\n",
    "    plt.close(fig)\n",
    "    \n",
    "save_text_image(results, '../Plots/後足と中足の内側腓腹筋の共分散と相関関係.png')"
   ]
  },
  {
   "cell_type": "code",
   "execution_count": 15,
   "id": "a5af95a5-984d-4e43-a91f-8f3f594da20b",
   "metadata": {},
   "outputs": [
    {
     "name": "stdout",
     "output_type": "stream",
     "text": [
      "被験者 1 の前足と中足の内側腓腹筋: 共分散 = 0.4913, 相関係数 = 0.2\n",
      "被験者 2 の前足と中足の内側腓腹筋: 共分散 = 0.1612, 相関係数 = 0.0562\n",
      "被験者 3 の前足と中足の内側腓腹筋: 共分散 = -0.1171, 相関係数 = -0.0404\n",
      "被験者 4 の前足と中足の内側腓腹筋: 共分散 = 0.0341, 相関係数 = 0.0203\n",
      "被験者 5 の前足と中足の内側腓腹筋: 共分散 = -0.0216, 相関係数 = -0.012\n",
      "被験者 6 の前足と中足の内側腓腹筋: 共分散 = -0.1065, 相関係数 = -0.0521\n",
      "被験者 7 の前足と中足の内側腓腹筋: 共分散 = 0.1395, 相関係数 = 0.0451\n",
      "被験者 8 の前足と中足の内側腓腹筋: 共分散 = -0.0746, 相関係数 = -0.039\n",
      "被験者 9 の前足と中足の内側腓腹筋: 共分散 = 0.0307, 相関係数 = 0.0117\n",
      "被験者全員: 前足と中足の内側腓腹筋の共分散 = 0.0012, 相関係数 = 0.0005\n"
     ]
    }
   ],
   "source": [
    "results = []\n",
    "for i, (mid_data, fore_data) in enumerate(zip(datasets_fore, datasets_mid), 1):\n",
    "    covariance = calculate_covariance(mid_data, fore_data, 'Gastrocnemius medialis')\n",
    "    correlation = calculate_correlation(mid_data, fore_data, 'Gastrocnemius medialis')\n",
    "    \n",
    "    if i < len(datasets_mid):\n",
    "        results.append(f\"被験者 {i} の前足と中足の内側腓腹筋: 共分散 = {covariance}, 相関係数 = {correlation}\")\n",
    "    else:\n",
    "        results.append(f\"被験者全員: 前足と中足の内側腓腹筋の共分散 = {covariance}, 相関係数 = {correlation}\")\n",
    "\n",
    "for result in results:\n",
    "    print(result)\n",
    "\n",
    "def save_text_image(texts, filename):\n",
    "    fig, ax = plt.subplots(figsize=(10, len(texts) * 0.4))\n",
    "    for i, text in enumerate(texts):\n",
    "        ax.text(0.5, 1 - (i + 1) / len(texts), text, fontsize=12, ha='center', va='center', wrap=True)\n",
    "    ax.axis('off')\n",
    "    plt.savefig(filename, bbox_inches='tight', pad_inches=0.1)\n",
    "    plt.close(fig)\n",
    "    \n",
    "save_text_image(results, '../Plots/前足と中足の内側腓腹筋の共分散と相関関係.png')"
   ]
  },
  {
   "cell_type": "code",
   "execution_count": 16,
   "id": "27e705b8-1bb6-42e4-a9b5-da278cf69f94",
   "metadata": {},
   "outputs": [
    {
     "name": "stdout",
     "output_type": "stream",
     "text": [
      "被験者 1 の前足と後足の内側腓腹筋: 共分散 = 0.1795, 相関係数 = 0.0868\n",
      "被験者 2 の前足と後足の内側腓腹筋: 共分散 = 0.0933, 相関係数 = 0.0352\n",
      "被験者 3 の前足と後足の内側腓腹筋: 共分散 = -0.2502, 相関係数 = -0.0851\n",
      "被験者 4 の前足と後足の内側腓腹筋: 共分散 = 0.0514, 相関係数 = 0.0292\n",
      "被験者 5 の前足と後足の内側腓腹筋: 共分散 = 0.0913, 相関係数 = 0.0505\n",
      "被験者 6 の前足と後足の内側腓腹筋: 共分散 = -0.1246, 相関係数 = -0.0633\n",
      "被験者 7 の前足と後足の内側腓腹筋: 共分散 = 0.0273, 相関係数 = 0.0083\n",
      "被験者 8 の前足と後足の内側腓腹筋: 共分散 = 0.1672, 相関係数 = 0.0843\n",
      "被験者 9 の前足と後足の内側腓腹筋: 共分散 = -0.2473, 相関係数 = -0.0998\n",
      "被験者全員: 前足と後足の内側腓腹筋の共分散 = -0.0578, 相関係数 = -0.0223\n"
     ]
    }
   ],
   "source": [
    "results = []\n",
    "for i, (mid_data, fore_data) in enumerate(zip(datasets_fore, datasets_rear), 1):\n",
    "    covariance = calculate_covariance(mid_data, fore_data, 'Gastrocnemius medialis')\n",
    "    correlation = calculate_correlation(mid_data, fore_data, 'Gastrocnemius medialis')\n",
    "    \n",
    "    if i < len(datasets_mid):\n",
    "        results.append(f\"被験者 {i} の前足と後足の内側腓腹筋: 共分散 = {covariance}, 相関係数 = {correlation}\")\n",
    "    else:\n",
    "        results.append(f\"被験者全員: 前足と後足の内側腓腹筋の共分散 = {covariance}, 相関係数 = {correlation}\")\n",
    "\n",
    "for result in results:\n",
    "    print(result)\n",
    "\n",
    "def save_text_image(texts, filename):\n",
    "    fig, ax = plt.subplots(figsize=(10, len(texts) * 0.4))\n",
    "    for i, text in enumerate(texts):\n",
    "        ax.text(0.5, 1 - (i + 1) / len(texts), text, fontsize=12, ha='center', va='center', wrap=True)\n",
    "    ax.axis('off')\n",
    "    plt.savefig(filename, bbox_inches='tight', pad_inches=0.1)\n",
    "    plt.close(fig)\n",
    "    \n",
    "save_text_image(results, '../Plots/前足と後足の内側腓腹筋の共分散と相関関係.png')"
   ]
  }
 ],
 "metadata": {
  "kernelspec": {
   "display_name": "Python 3 (ipykernel)",
   "language": "python",
   "name": "python3"
  },
  "language_info": {
   "codemirror_mode": {
    "name": "ipython",
    "version": 3
   },
   "file_extension": ".py",
   "mimetype": "text/x-python",
   "name": "python",
   "nbconvert_exporter": "python",
   "pygments_lexer": "ipython3",
   "version": "3.9.13"
  }
 },
 "nbformat": 4,
 "nbformat_minor": 5
}
